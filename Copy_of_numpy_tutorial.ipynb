{
  "cells": [
    {
      "cell_type": "markdown",
      "metadata": {
        "id": "view-in-github",
        "colab_type": "text"
      },
      "source": [
        "<a href=\"https://colab.research.google.com/github/Sukirtha20/daily-python-practice/blob/main/Copy_of_numpy_tutorial.ipynb\" target=\"_parent\"><img src=\"https://colab.research.google.com/assets/colab-badge.svg\" alt=\"Open In Colab\"/></a>"
      ]
    },
    {
      "cell_type": "code",
      "execution_count": null,
      "id": "2441fd5d",
      "metadata": {
        "id": "2441fd5d"
      },
      "outputs": [],
      "source": [
        "pip install numpy"
      ]
    },
    {
      "cell_type": "code",
      "execution_count": null,
      "id": "06ff03d0",
      "metadata": {
        "id": "06ff03d0"
      },
      "outputs": [],
      "source": [
        "import numpy as np"
      ]
    },
    {
      "cell_type": "code",
      "execution_count": null,
      "id": "99c7143f",
      "metadata": {
        "id": "99c7143f"
      },
      "outputs": [],
      "source": [
        "data_1d=np.array([1,2,3,4])"
      ]
    },
    {
      "cell_type": "code",
      "execution_count": null,
      "id": "910e4bb7",
      "metadata": {
        "id": "910e4bb7"
      },
      "outputs": [],
      "source": [
        "data_2d=np.array([[1,2,3],[4,5,6]])"
      ]
    },
    {
      "cell_type": "code",
      "execution_count": null,
      "id": "d57afd6c",
      "metadata": {
        "id": "d57afd6c"
      },
      "outputs": [],
      "source": [
        "print(data_1d.shape)"
      ]
    },
    {
      "cell_type": "code",
      "execution_count": null,
      "id": "84b1df23",
      "metadata": {
        "id": "84b1df23"
      },
      "outputs": [],
      "source": [
        "print(data_2d.shape)"
      ]
    },
    {
      "cell_type": "code",
      "execution_count": null,
      "id": "9b15965c",
      "metadata": {
        "id": "9b15965c"
      },
      "outputs": [],
      "source": [
        "reshape_Arr=data_2d.reshape(3,2)\n",
        "reshape_Arr"
      ]
    },
    {
      "cell_type": "code",
      "execution_count": null,
      "id": "0c0095bf",
      "metadata": {
        "id": "0c0095bf"
      },
      "outputs": [],
      "source": [
        "print(data_2d.ndim)"
      ]
    },
    {
      "cell_type": "code",
      "execution_count": null,
      "id": "38d47a9f",
      "metadata": {
        "id": "38d47a9f"
      },
      "outputs": [],
      "source": [
        "a=np.array([1,2,3])\n",
        "b=np.array([4,5,6])"
      ]
    },
    {
      "cell_type": "code",
      "execution_count": null,
      "id": "1348acb1",
      "metadata": {
        "id": "1348acb1"
      },
      "outputs": [],
      "source": [
        "addition=a+b\n",
        "addition"
      ]
    },
    {
      "cell_type": "code",
      "execution_count": null,
      "id": "bdb8a720",
      "metadata": {
        "id": "bdb8a720"
      },
      "outputs": [],
      "source": [
        "multiplication=a*b\n",
        "multiplication\n"
      ]
    },
    {
      "cell_type": "code",
      "execution_count": null,
      "id": "26e76599",
      "metadata": {
        "id": "26e76599"
      },
      "outputs": [],
      "source": [
        "exp_a=np.exp(a)\n",
        "exp_a"
      ]
    },
    {
      "cell_type": "code",
      "execution_count": null,
      "id": "b856dc86",
      "metadata": {
        "id": "b856dc86"
      },
      "outputs": [],
      "source": [
        "log_b=np.log(b)\n",
        "log_b"
      ]
    },
    {
      "cell_type": "code",
      "execution_count": null,
      "id": "50e90d23",
      "metadata": {
        "id": "50e90d23"
      },
      "outputs": [],
      "source": [
        "print(data_1d[:3])"
      ]
    },
    {
      "cell_type": "code",
      "execution_count": null,
      "id": "3b5333c0",
      "metadata": {
        "id": "3b5333c0"
      },
      "outputs": [],
      "source": [
        "data_2d"
      ]
    },
    {
      "cell_type": "code",
      "execution_count": null,
      "id": "7a4cfc30",
      "metadata": {
        "id": "7a4cfc30"
      },
      "outputs": [],
      "source": [
        "print(data_2d[:,1:])"
      ]
    }
  ],
  "metadata": {
    "kernelspec": {
      "display_name": "Python 3",
      "language": "python",
      "name": "python3"
    },
    "language_info": {
      "codemirror_mode": {
        "name": "ipython",
        "version": 3
      },
      "file_extension": ".py",
      "mimetype": "text/x-python",
      "name": "python",
      "nbconvert_exporter": "python",
      "pygments_lexer": "ipython3",
      "version": "3.10.10"
    },
    "colab": {
      "provenance": [],
      "include_colab_link": true
    }
  },
  "nbformat": 4,
  "nbformat_minor": 5
}